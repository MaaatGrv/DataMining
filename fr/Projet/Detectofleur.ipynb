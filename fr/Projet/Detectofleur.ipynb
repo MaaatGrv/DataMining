{
 "cells": [
  {
   "cell_type": "markdown",
   "metadata": {},
   "source": [
    "## Data Collection ##\n",
    "\n",
    "We get the pictures of flowers via our folder flowers which contains the pictures of flowers of different species (chamomile, tulip, rose, sunflower, dandelion),  and we store them in a folder \"images\".\n",
    "\n",
    "We get the metadata of each image as the size of the image, the format of the image (.jpeg, .png, etc.), the orientation of the image (landscape, portrait, square, etc.), the creation date, the camera model, etc. in one or more JSON files. We can use the information Exif present in the image files."
   ]
  },
  {
   "cell_type": "code",
   "execution_count": null,
   "metadata": {},
   "outputs": [
    {
     "ename": "FileNotFoundError",
     "evalue": "[Errno 2] No such file or directory: './fr/Projet/images'",
     "output_type": "error",
     "traceback": [
      "\u001b[0;31m---------------------------------------------------------------------------\u001b[0m",
      "\u001b[0;31mFileNotFoundError\u001b[0m                         Traceback (most recent call last)",
      "Cell \u001b[0;32mIn[4], line 46\u001b[0m\n\u001b[1;32m     44\u001b[0m         \u001b[38;5;28;01mwith\u001b[39;00m \u001b[38;5;28mopen\u001b[39m(\u001b[38;5;124m\"\u001b[39m\u001b[38;5;124m./\u001b[39m\u001b[38;5;124m\"\u001b[39m \u001b[38;5;241m+\u001b[39m folder \u001b[38;5;241m+\u001b[39m \u001b[38;5;124m\"\u001b[39m\u001b[38;5;124m/\u001b[39m\u001b[38;5;124m\"\u001b[39m \u001b[38;5;241m+\u001b[39m image_name, \u001b[38;5;124m\"\u001b[39m\u001b[38;5;124mwb\u001b[39m\u001b[38;5;124m\"\u001b[39m) \u001b[38;5;28;01mas\u001b[39;00m f:\n\u001b[1;32m     45\u001b[0m             f\u001b[38;5;241m.\u001b[39mwrite(image\u001b[38;5;241m.\u001b[39mread())\n\u001b[0;32m---> 46\u001b[0m \u001b[43mloadImages\u001b[49m\u001b[43m(\u001b[49m\u001b[43m)\u001b[49m\n",
      "Cell \u001b[0;32mIn[4], line 23\u001b[0m, in \u001b[0;36mloadImages\u001b[0;34m()\u001b[0m\n\u001b[1;32m     21\u001b[0m \u001b[38;5;28;01mdef\u001b[39;00m \u001b[38;5;21mloadImages\u001b[39m():\n\u001b[1;32m     22\u001b[0m     \u001b[38;5;66;03m# Create the folder & get the folder name\u001b[39;00m\n\u001b[0;32m---> 23\u001b[0m     folder \u001b[38;5;241m=\u001b[39m \u001b[43mcreateFolder\u001b[49m\u001b[43m(\u001b[49m\u001b[43m)\u001b[49m\n\u001b[1;32m     25\u001b[0m     \u001b[38;5;66;03m# Load random images of flower from the foler /fr/Projet/fleurs\u001b[39;00m\n\u001b[1;32m     26\u001b[0m     \u001b[38;5;66;03m# We will load 10 images and generate 10 random numbers between 1 and 4317 to get the images\u001b[39;00m\n\u001b[1;32m     27\u001b[0m \n\u001b[1;32m     28\u001b[0m     \u001b[38;5;66;03m# Create a list of random numbers\u001b[39;00m\n\u001b[1;32m     29\u001b[0m     random_numbers \u001b[38;5;241m=\u001b[39m []\n",
      "Cell \u001b[0;32mIn[4], line 15\u001b[0m, in \u001b[0;36mcreateFolder\u001b[0;34m()\u001b[0m\n\u001b[1;32m     13\u001b[0m folder \u001b[38;5;241m=\u001b[39m \u001b[38;5;124m\"\u001b[39m\u001b[38;5;124mimages\u001b[39m\u001b[38;5;124m\"\u001b[39m \u001b[38;5;241m+\u001b[39m \u001b[38;5;124m\"\u001b[39m\u001b[38;5;124m-\u001b[39m\u001b[38;5;124m\"\u001b[39m \u001b[38;5;241m+\u001b[39m \u001b[38;5;28mstr\u001b[39m(now\u001b[38;5;241m.\u001b[39myear) \u001b[38;5;241m+\u001b[39m \u001b[38;5;124m\"\u001b[39m\u001b[38;5;124m-\u001b[39m\u001b[38;5;124m\"\u001b[39m \u001b[38;5;241m+\u001b[39m \u001b[38;5;28mstr\u001b[39m(now\u001b[38;5;241m.\u001b[39mmonth) \u001b[38;5;241m+\u001b[39m \u001b[38;5;124m\"\u001b[39m\u001b[38;5;124m-\u001b[39m\u001b[38;5;124m\"\u001b[39m \u001b[38;5;241m+\u001b[39m \u001b[38;5;28mstr\u001b[39m(now\u001b[38;5;241m.\u001b[39mday) \u001b[38;5;241m+\u001b[39m \u001b[38;5;124m\"\u001b[39m\u001b[38;5;124m_\u001b[39m\u001b[38;5;124m\"\u001b[39m \u001b[38;5;241m+\u001b[39m \u001b[38;5;28mstr\u001b[39m(now\u001b[38;5;241m.\u001b[39mhour) \u001b[38;5;241m+\u001b[39m \u001b[38;5;124m\"\u001b[39m\u001b[38;5;124m-\u001b[39m\u001b[38;5;124m\"\u001b[39m \u001b[38;5;241m+\u001b[39m \u001b[38;5;28mstr\u001b[39m(now\u001b[38;5;241m.\u001b[39mminute) \u001b[38;5;241m+\u001b[39m \u001b[38;5;124m\"\u001b[39m\u001b[38;5;124m-\u001b[39m\u001b[38;5;124m\"\u001b[39m \u001b[38;5;241m+\u001b[39m \u001b[38;5;28mstr\u001b[39m(now\u001b[38;5;241m.\u001b[39msecond)\n\u001b[1;32m     14\u001b[0m \u001b[38;5;66;03m# Create the folder\u001b[39;00m\n\u001b[0;32m---> 15\u001b[0m \u001b[43mos\u001b[49m\u001b[38;5;241;43m.\u001b[39;49m\u001b[43mchdir\u001b[49m\u001b[43m(\u001b[49m\u001b[38;5;124;43m\"\u001b[39;49m\u001b[38;5;124;43m./fr/Projet/images\u001b[39;49m\u001b[38;5;124;43m\"\u001b[39;49m\u001b[43m)\u001b[49m\n\u001b[1;32m     16\u001b[0m os\u001b[38;5;241m.\u001b[39mmkdir(folder)\n\u001b[1;32m     17\u001b[0m \u001b[38;5;66;03m# Return the flder name\u001b[39;00m\n",
      "\u001b[0;31mFileNotFoundError\u001b[0m: [Errno 2] No such file or directory: './fr/Projet/images'"
     ]
    }
   ],
   "source": [
    "# Import Libraries\n",
    "import os\n",
    "import datetime\n",
    "import requests\n",
    "import shutil \n",
    "import random\n",
    "\n",
    "# Create a folder for the data collection\n",
    "def createFolder():\n",
    "    # Get the current date and time\n",
    "    now = datetime.datetime.now()\n",
    "    # Create a folder with the current date and time\n",
    "    folder = \"images\" + \"-\" + str(now.year) + \"-\" + str(now.month) + \"-\" + str(now.day) + \"_\" + str(now.hour) + \"-\" + str(now.minute) + \"-\" + str(now.second)\n",
    "    # Create the folder\n",
    "    os.chdir(\".//fr/Projet/images\")\n",
    "    os.mkdir(folder)\n",
    "    # Return the flder name\n",
    "    return folder\n",
    "\n",
    "# load photos from the folder /fr/Projet/fleurs\n",
    "def loadImages():\n",
    "    # Create the folder & get the folder name\n",
    "    folder = createFolder()\n",
    "\n",
    "    # Load random images of flower from the foler /fr/Projet/fleurs\n",
    "    # We will load 10 images and generate 10 random numbers between 1 and 4317 to get the images\n",
    "\n",
    "    # Create a list of random numbers\n",
    "    random_numbers = []\n",
    "    # Generate 10 random numbers\n",
    "    for i in range(10):\n",
    "        # Generate a random number\n",
    "        random_number = random.randint(1, 4317)\n",
    "        # Add the random number to the list\n",
    "        random_numbers.append(random_number)\n",
    "    \n",
    "    # Load the images using the folder name\n",
    "    for i in range(1, 11):\n",
    "        # Get the image name\n",
    "        image_name = \".//fr/Projet/fleurs/fleur\" + str(random_numbers[i-1]) + \".jpg\"\n",
    "        # Open the image\n",
    "        image = open(image_name, \"rb\")\n",
    "        # Save the image in the folder that we created\n",
    "        with open(\"./\" + folder + \"/\" + image_name, \"wb\") as f:\n",
    "            f.write(image.read())\n",
    "loadImages()"
   ]
  },
  {
   "cell_type": "markdown",
   "metadata": {},
   "source": []
  }
 ],
 "metadata": {
  "kernelspec": {
   "display_name": "Python 3 (ipykernel)",
   "language": "python",
   "name": "python3"
  },
  "language_info": {
   "codemirror_mode": {
    "name": "ipython",
    "version": 3
   },
   "file_extension": ".py",
   "mimetype": "text/x-python",
   "name": "python",
   "nbconvert_exporter": "python",
   "pygments_lexer": "ipython3",
   "version": "3.9.16"
  },
  "vscode": {
   "interpreter": {
    "hash": "b0fa6594d8f4cbf19f97940f81e996739fb7646882a419484c72d19e05852a7e"
   }
  }
 },
 "nbformat": 4,
 "nbformat_minor": 2
}
